{
 "cells": [
  {
   "cell_type": "code",
   "execution_count": 7,
   "metadata": {},
   "outputs": [],
   "source": [
    "#CNN on MNIST by Sankalp Sharma (mcs2019009) and Aritro Mukherjee(mcs2019003)"
   ]
  },
  {
   "cell_type": "code",
   "execution_count": 8,
   "metadata": {},
   "outputs": [
    {
     "data": {
      "text/plain": [
       "'2.1.0'"
      ]
     },
     "execution_count": 8,
     "metadata": {},
     "output_type": "execute_result"
    }
   ],
   "source": [
    "import tensorflow as tf\n",
    "import matplotlib.pyplot as plt\n",
    "import numpy as np\n",
    "tf.__version__"
   ]
  },
  {
   "cell_type": "code",
   "execution_count": 9,
   "metadata": {},
   "outputs": [
    {
     "data": {
      "text/plain": [
       "<matplotlib.image.AxesImage at 0x103dce510>"
      ]
     },
     "execution_count": 9,
     "metadata": {},
     "output_type": "execute_result"
    },
    {
     "data": {
      "image/png": "[encoded data removed]",
      "text/plain": [
       "<Figure size 432x288 with 1 Axes>"
      ]
     },
     "metadata": {
      "needs_background": "light"
     },
     "output_type": "display_data"
    }
   ],
   "source": [
    "#import datasets\n",
    "\n",
    "mnist= tf.keras.datasets.mnist #28x28 images\n",
    "(x_train,y_train),(x_test,y_test)=mnist.load_data()\n",
    "#print(x_train[0])\n",
    "plt.imshow(x_train[0])\n",
    "\n"
   ]
  },
  {
   "cell_type": "code",
   "execution_count": 10,
   "metadata": {},
   "outputs": [
    {
     "data": {
      "text/plain": [
       "<matplotlib.image.AxesImage at 0x12be8e750>"
      ]
     },
     "execution_count": 10,
     "metadata": {},
     "output_type": "execute_result"
    },
    {
     "data": {
      "image/png": "[encoded data removed]",
      "text/plain": [
       "<Figure size 432x288 with 1 Axes>"
      ]
     },
     "metadata": {
      "needs_background": "light"
     },
     "output_type": "display_data"
    }
   ],
   "source": [
    "#normalizing the pixel values\n",
    "\n",
    "x_train=tf.keras.utils.normalize(x_train,axis=1)\n",
    "x_test=tf.keras.utils.normalize(x_test,axis=1)\n",
    "plt.imshow(x_train[0])"
   ]
  },
  {
   "cell_type": "code",
   "execution_count": 24,
   "metadata": {},
   "outputs": [],
   "source": [
    "#creating DL model\n",
    "model=tf.keras.models.Sequential()\n",
    "model.add(tf.keras.layers.Flatten())#numpy could be used to flatten the 2d array\n",
    "model.add(tf.keras.layers.Dense(128,activation=tf.nn.relu))#neurons,activation func(rectified linear)\n",
    "model.add(tf.keras.layers.Dense(128,activation=tf.nn.relu))\n",
    "model.add(tf.keras.layers.Dense(10,activation=tf.nn.softmax))#output layer (neurons=no of classes,softmax layer for probability distribution)"
   ]
  },
  {
   "cell_type": "code",
   "execution_count": 25,
   "metadata": {},
   "outputs": [],
   "source": [
    "#choosing optimizer,loss and output metrics\n",
    "model.compile(optimizer='adam',loss='sparse_categorical_crossentropy',metrics=['accuracy'])#optimizer=adam/stochastic gradient descent,loss=read about it, about 10 choices"
   ]
  },
  {
   "cell_type": "code",
   "execution_count": 26,
   "metadata": {},
   "outputs": [
    {
     "name": "stdout",
     "output_type": "stream",
     "text": [
      "Train on 60000 samples\n",
      "Epoch 1/4\n",
      "60000/60000 [==============================] - 5s 77us/sample - loss: 0.2643 - accuracy: 0.9214\n",
      "Epoch 2/4\n",
      "60000/60000 [==============================] - 4s 72us/sample - loss: 0.1057 - accuracy: 0.9670\n",
      "Epoch 3/4\n",
      "60000/60000 [==============================] - 4s 73us/sample - loss: 0.0742 - accuracy: 0.9770\n",
      "Epoch 4/4\n",
      "60000/60000 [==============================] - 4s 73us/sample - loss: 0.0537 - accuracy: 0.9827s - loss: 0\n"
     ]
    },
    {
     "data": {
      "text/plain": [
       "<tensorflow.python.keras.callbacks.History at 0x633c4a9d0>"
      ]
     },
     "execution_count": 26,
     "metadata": {},
     "output_type": "execute_result"
    }
   ],
   "source": [
    "#model train with given epochs\n",
    "model.fit(x_train,y_train, epochs=4)"
   ]
  },
  {
   "cell_type": "code",
   "execution_count": 27,
   "metadata": {},
   "outputs": [
    {
     "name": "stdout",
     "output_type": "stream",
     "text": [
      "10000/10000 [==============================] - 1s 82us/sample - loss: 0.0900 - accuracy: 0.9733\n",
      "0.08995049454665277 0.9733\n"
     ]
    }
   ],
   "source": [
    "#model testing on test data\n",
    "val_loss,val_accuracy=model.evaluate(x_test,y_test)\n",
    "print(val_loss,val_accuracy)\n"
   ]
  },
  {
   "cell_type": "code",
   "execution_count": null,
   "metadata": {},
   "outputs": [],
   "source": [
    "\n",
    "'''\n",
    "Train on 60000 samples\n",
    "Epoch 1/10\n",
    "60000/60000 [==============================] - 5s 84us/sample - loss: 0.2597 - accuracy: 0.9233\n",
    "Epoch 2/10\n",
    "60000/60000 [==============================] - 4s 71us/sample - loss: 0.1072 - accuracy: 0.9673\n",
    "Epoch 3/10\n",
    "60000/60000 [==============================] - 4s 71us/sample - loss: 0.0726 - accuracy: 0.9776\n",
    "Epoch 4/10\n",
    "60000/60000 [==============================] - 4s 74us/sample - loss: 0.0548 - accuracy: 0.9824\n",
    "Epoch 5/10\n",
    "60000/60000 [==============================] - 5s 79us/sample - loss: 0.0421 - accuracy: 0.9866\n",
    "Epoch 6/10\n",
    "60000/60000 [==============================] - 4s 72us/sample - loss: 0.0319 - accuracy: 0.9894\n",
    "Epoch 7/10\n",
    "60000/60000 [==============================] - 4s 71us/sample - loss: 0.0242 - accuracy: 0.9919\n",
    "Epoch 8/10\n",
    "60000/60000 [==============================] - 4s 72us/sample - loss: 0.0217 - accuracy: 0.9926\n",
    "Epoch 9/10\n",
    "60000/60000 [==============================] - 4s 72us/sample - loss: 0.0180 - accuracy: 0.9938\n",
    "Epoch 10/10\n",
    "60000/60000 [==============================] - 4s 72us/sample - loss: 0.0143 - accuracy: 0.9952\n",
    "\n",
    "\n",
    "10000/10000 [==============================] - 1s 54us/sample - loss: 0.1078 - accuracy: 0.9751\n",
    "0.1078338756347006 0.9751\n",
    "\n",
    "\n",
    "Train on 60000 samples\n",
    "Epoch 1/5\n",
    "60000/60000 [==============================] - 5s 77us/sample - loss: 0.2666 - accuracy: 0.9221\n",
    "Epoch 2/5\n",
    "60000/60000 [==============================] - 4s 72us/sample - loss: 0.1057 - accuracy: 0.9670\n",
    "Epoch 3/5\n",
    "60000/60000 [==============================] - 4s 72us/sample - loss: 0.0721 - accuracy: 0.9776\n",
    "Epoch 4/5\n",
    "60000/60000 [==============================] - 4s 72us/sample - loss: 0.0518 - accuracy: 0.9835\n",
    "Epoch 5/5\n",
    "60000/60000 [==============================] - 4s 73us/sample - loss: 0.0402 - accuracy: 0.9867\n",
    "\n",
    "\n",
    "10000/10000 [==============================] - 1s 54us/sample - loss: 0.0990 - accuracy: 0.9724\n",
    "0.09900122795519418 0.9724\n",
    "\n",
    "\n",
    "Train on 60000 samples\n",
    "Epoch 1/3\n",
    "60000/60000 [==============================] - 5s 78us/sample - loss: 0.2633 - accuracy: 0.9226\n",
    "Epoch 2/3\n",
    "60000/60000 [==============================] - 4s 73us/sample - loss: 0.1064 - accuracy: 0.9671\n",
    "Epoch 3/3\n",
    "60000/60000 [==============================] - 4s 73us/sample - loss: 0.0734 - accuracy: 0.9769\n",
    "Out[22]:\n",
    "<tensorflow.python.keras.callbacks.History at 0x633a49910>\n",
    "\n",
    "10000/10000 [==============================] - 1s 54us/sample - loss: 0.1004 - accuracy: 0.9701\n",
    "0.10036554892072454 0.9701\n",
    "\n",
    "\n",
    "\n",
    "Train on 60000 samples\n",
    "Epoch 1/4\n",
    "60000/60000 [==============================] - 5s 77us/sample - loss: 0.2643 - accuracy: 0.9214\n",
    "Epoch 2/4\n",
    "60000/60000 [==============================] - 4s 72us/sample - loss: 0.1057 - accuracy: 0.9670\n",
    "Epoch 3/4\n",
    "60000/60000 [==============================] - 4s 73us/sample - loss: 0.0742 - accuracy: 0.9770\n",
    "Epoch 4/4\n",
    "60000/60000 [==============================] - 4s 73us/sample - loss: 0.0537 - accuracy: 0.9827s - loss: 0\n",
    "\n",
    "10000/10000 [==============================] - 1s 82us/sample - loss: 0.0900 - accuracy: 0.9733\n",
    "0.08995049454665277 0.9733\n",
    "'''"
   ]
  },
  {
   "cell_type": "code",
   "execution_count": 30,
   "metadata": {},
   "outputs": [
    {
     "name": "stdout",
     "output_type": "stream",
     "text": [
      "INFO:tensorflow:Assets written to: cnn_for_dl/assets\n"
     ]
    }
   ],
   "source": [
    "#saving the created model and loading it for reuse\n",
    "model.save('cnn_for_dl')\n",
    "new_model=tf.keras.models.load_model('cnn_for_dl')\n",
    "predictions=new_model.predict(x_test) #input list\n",
    "\n"
   ]
  },
  {
   "cell_type": "code",
   "execution_count": 31,
   "metadata": {},
   "outputs": [
    {
     "name": "stdout",
     "output_type": "stream",
     "text": [
      "7\n"
     ]
    },
    {
     "data": {
      "image/png": "[encoded data removed]",
      "text/plain": [
       "<Figure size 432x288 with 1 Axes>"
      ]
     },
     "metadata": {
      "needs_background": "light"
     },
     "output_type": "display_data"
    }
   ],
   "source": [
    "#little tough to use tf.argmax here due to tensors and lists\n",
    "print(np.argmax(predictions[0]))\n",
    "plt.imshow(x_test[0])\n",
    "plt.show()"
   ]
  },
  {
   "cell_type": "code",
   "execution_count": 32,
   "metadata": {},
   "outputs": [],
   "source": [
    "#created on 15/08/2020"
   ]
  },
  {
   "cell_type": "code",
   "execution_count": null,
   "metadata": {},
   "outputs": [],
   "source": []
  }
 ],
 "metadata": {
  "kernelspec": {
   "display_name": "Python 3",
   "language": "python",
   "name": "python3"
  },
  "language_info": {
   "codemirror_mode": {
    "name": "ipython",
    "version": 3
   },
   "file_extension": ".py",
   "mimetype": "text/x-python",
   "name": "python",
   "nbconvert_exporter": "python",
   "pygments_lexer": "ipython3",
   "version": "3.8.6"
  }
 },
 "nbformat": 4,
 "nbformat_minor": 4
}
